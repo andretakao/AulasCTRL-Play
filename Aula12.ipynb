{
  "nbformat": 4,
  "nbformat_minor": 0,
  "metadata": {
    "colab": {
      "provenance": []
    },
    "kernelspec": {
      "name": "python3",
      "display_name": "Python 3"
    },
    "language_info": {
      "name": "python"
    }
  },
  "cells": [
    {
      "cell_type": "code",
      "execution_count": 11,
      "metadata": {
        "colab": {
          "base_uri": "https://localhost:8080/",
          "height": 176
        },
        "id": "kQt2JmpoYYqC",
        "outputId": "95dbed65-389e-4fbe-ad7a-fef79b6e2137"
      },
      "outputs": [
        {
          "output_type": "error",
          "ename": "NameError",
          "evalue": "name 'gameplay' is not defined",
          "traceback": [
            "\u001b[0;31m---------------------------------------------------------------------------\u001b[0m",
            "\u001b[0;31mNameError\u001b[0m                                 Traceback (most recent call last)",
            "\u001b[0;32m<ipython-input-11-2aab7f4888a3>\u001b[0m in \u001b[0;36m<cell line: 10>\u001b[0;34m()\u001b[0m\n\u001b[1;32m      8\u001b[0m       \u001b[0;32mreturn\u001b[0m \u001b[0;34m\"Game Play: \"\u001b[0m\u001b[0;34m+\u001b[0m\u001b[0mself\u001b[0m\u001b[0;34m.\u001b[0m\u001b[0mgame_mode\u001b[0m\u001b[0;34m+\u001b[0m\u001b[0;34m\", \"\u001b[0m\u001b[0;34m+\u001b[0m\u001b[0mself\u001b[0m\u001b[0;34m.\u001b[0m\u001b[0mestilo\u001b[0m\u001b[0;34m+\u001b[0m\u001b[0;34m\" e \"\u001b[0m\u001b[0;34m+\u001b[0m\u001b[0mself\u001b[0m\u001b[0;34m.\u001b[0m\u001b[0mjogabilidade\u001b[0m\u001b[0;34m\u001b[0m\u001b[0;34m\u001b[0m\u001b[0m\n\u001b[1;32m      9\u001b[0m \u001b[0;34m\u001b[0m\u001b[0m\n\u001b[0;32m---> 10\u001b[0;31m \u001b[0mgameplay\u001b[0m\u001b[0;34m(\u001b[0m\u001b[0mfallout\u001b[0m\u001b[0;34m)\u001b[0m\u001b[0;34m\u001b[0m\u001b[0;34m\u001b[0m\u001b[0m\n\u001b[0m",
            "\u001b[0;31mNameError\u001b[0m: name 'gameplay' is not defined"
          ]
        }
      ],
      "source": [
        "class fallout() :\n",
        "    game_mode = \"RPG\"\n",
        "    estilo = \"Futurista/ Distópico\"\n",
        "    jogabilidade = \"Desafiador\"\n",
        "\n",
        "    def gameplay(self):\n",
        "      print(\"Game Play: \"+self.game_mode+\", \"+self.estilo+\" e \"+self.jogabilidade)\n",
        "      return \"Game Play: \"+self.game_mode+\", \"+self.estilo+\" e \"+self.jogabilidade"
      ]
    },
    {
      "cell_type": "code",
      "source": [],
      "metadata": {
        "colab": {
          "base_uri": "https://localhost:8080/",
          "height": 141
        },
        "id": "357GVswsbvc8",
        "outputId": "65eece9c-13c8-454f-ab83-c2aeb60fe024"
      },
      "execution_count": 6,
      "outputs": [
        {
          "output_type": "error",
          "ename": "NameError",
          "evalue": "name 'gameplay' is not defined",
          "traceback": [
            "\u001b[0;31m---------------------------------------------------------------------------\u001b[0m",
            "\u001b[0;31mNameError\u001b[0m                                 Traceback (most recent call last)",
            "\u001b[0;32m<ipython-input-6-a72ea0f05815>\u001b[0m in \u001b[0;36m<cell line: 1>\u001b[0;34m()\u001b[0m\n\u001b[0;32m----> 1\u001b[0;31m \u001b[0mgameplay\u001b[0m\u001b[0;34m(\u001b[0m\u001b[0mfallout\u001b[0m\u001b[0;34m)\u001b[0m\u001b[0;34m\u001b[0m\u001b[0;34m\u001b[0m\u001b[0m\n\u001b[0m",
            "\u001b[0;31mNameError\u001b[0m: name 'gameplay' is not defined"
          ]
        }
      ]
    },
    {
      "cell_type": "code",
      "source": [
        "jogo1 = fallout()"
      ],
      "metadata": {
        "id": "5ezRhjRfg37G"
      },
      "execution_count": 12,
      "outputs": []
    },
    {
      "cell_type": "code",
      "source": [
        "print(type(jogo1))"
      ],
      "metadata": {
        "colab": {
          "base_uri": "https://localhost:8080/"
        },
        "id": "Bv_pocsmkz7h",
        "outputId": "2bba2ecc-349a-4044-cc92-55b5fbff5582"
      },
      "execution_count": 13,
      "outputs": [
        {
          "output_type": "stream",
          "name": "stdout",
          "text": [
            "<class '__main__.fallout'>\n"
          ]
        }
      ]
    },
    {
      "cell_type": "code",
      "source": [
        "print(jogo1.jogabilidade)"
      ],
      "metadata": {
        "colab": {
          "base_uri": "https://localhost:8080/"
        },
        "id": "JK4qZT7Fk4Nt",
        "outputId": "c91b6b8f-3488-4d6d-dedc-0b10d68d0090"
      },
      "execution_count": 14,
      "outputs": [
        {
          "output_type": "stream",
          "name": "stdout",
          "text": [
            "Desafiador\n"
          ]
        }
      ]
    },
    {
      "cell_type": "code",
      "source": [],
      "metadata": {
        "id": "lLc4AVL-lG5S"
      },
      "execution_count": null,
      "outputs": []
    }
  ]
}